{
 "cells": [
  {
   "cell_type": "code",
   "execution_count": null,
   "metadata": {},
   "outputs": [],
   "source": [
    "# Mount GDrive\n",
    "from google.colab import drive\n",
    "drive.mount('/content/drive')"
   ]
  },
  {
   "cell_type": "code",
   "execution_count": null,
   "metadata": {},
   "outputs": [],
   "source": [
    "import os\n",
    "\n",
    "# os.chdir allows you to change directories, like cd in the Terminal\n",
    "os.chdir('/content/drive/MyDrive/Colab Notebooks/sign-language-interpretation')"
   ]
  },
  {
   "cell_type": "code",
   "execution_count": 13,
   "metadata": {},
   "outputs": [],
   "source": [
    "import matplotlib.pyplot as plotter_lib\n",
    "import numpy as np\n",
    "import pandas as pd\n",
    "import matplotlib.pyplot as plt\n",
    "import PIL as image_lib\n",
    "import tensorflow as tflow\n",
    "from tensorflow.keras.layers import Flatten\n",
    "from tensorflow.keras import models\n",
    "from tensorflow.keras.optimizers import Adam\n",
    "from keras.applications.vgg16 import VGG16\n",
    "from keras.applications.vgg19 import VGG19\n",
    "from keras.models import Model\n",
    "from keras.preprocessing import image\n",
    "from tensorflow.keras.layers import Input, Lambda ,Dense ,Flatten ,Dropout\n",
    "%matplotlib inline\n",
    "import os\n",
    "from tensorflow.keras.callbacks import EarlyStopping\n",
    "from PIL import Image, ImageOps"
   ]
  },
  {
   "cell_type": "code",
   "execution_count": 19,
   "metadata": {},
   "outputs": [],
   "source": [
    "def data_input(path='raw_data'):\n",
    "    X_train_200 = []\n",
    "    X_train_100 = []\n",
    "    X_train_50 = []\n",
    "    y_train = []\n",
    "    X_test_200 = []\n",
    "    X_test_100 = []\n",
    "    X_test_50 = []\n",
    "    \n",
    "    letters = ['A', 'B', 'C', 'D', 'E', 'F', 'G', 'H', 'I', 'J', 'K', 'L', 'M', 'N',\n",
    "               'O', 'P', 'Q', 'R', 'S', 'T', 'U', 'V', 'W', 'X', 'Y', 'Z', 'nothing', 'space', 'del']\n",
    "    \n",
    "    for letter in letters:\n",
    "        data_train_path = os.path.join(path, 'asl_alphabet_train', f'{letter}')\n",
    "        print(data_train_path)\n",
    "        for f in os.listdir(data_train_path):\n",
    "            if f.endswith('.JPG'):\n",
    "                print(f\"processing file {f} ...... \")\n",
    "        #         image = Image.open(f'{data_train_path}/{f}')\n",
    "        #         # new_image = image.thumbnail((28,28)) # new_image= image.resize((28,28))\n",
    "        #         # new_image= ImageOps.grayscale(image.resize((28,28)))\n",
    "        #         # plt.imshow(new_image, cmap='gray')\n",
    "        #         X_train_200.append(np.array(image))\n",
    "        #         X_train_100.append(np.array(image.resize(100,100)))\n",
    "        #         X_train_50.append(np.array(image.resize(50,50)))\n",
    "        #         y_train.append(letter)\n",
    "        #         # print(np.array(new_image).shape)\n",
    "    \n",
    "        # data_test_path = os.path.join(path, 'asl_alphabet_test')\n",
    "        # print(data_test_path)\n",
    "        # for f in os.listdir(data_test_path):\n",
    "        #     if f.endswith('.JPG'):\n",
    "        #         # print(f\"processing file {f} ...... \")\n",
    "        #         image = Image.open(f'{data_test_path}/{f}')\n",
    "        #         # new_image = image.thumbnail((28,28)) # new_image= image.resize((28,28))\n",
    "        #         # new_image= ImageOps.grayscale(image.resize((28,28)))\n",
    "        #         # plt.imshow(new_image, cmap='gray')\n",
    "        #         X_test_200.append(np.array(image))\n",
    "        #         X_test_100.append(np.array(image.resize(100,100)))\n",
    "        #         X_test_50.append(np.array(image.resize(50,50)))\n",
    "    \n",
    "                \n",
    "    return X_train_200, X_train_100, X_train_50, y_train, X_test_200, X_test_100, X_test_50"
   ]
  },
  {
   "cell_type": "code",
   "execution_count": 20,
   "metadata": {},
   "outputs": [
    {
     "name": "stdout",
     "output_type": "stream",
     "text": [
      "raw_data/asl_alphabet_train/A\n"
     ]
    },
    {
     "ename": "FileNotFoundError",
     "evalue": "[Errno 2] No such file or directory: 'raw_data/asl_alphabet_train/A'",
     "output_type": "error",
     "traceback": [
      "\u001b[0;31m---------------------------------------------------------------------------\u001b[0m",
      "\u001b[0;31mFileNotFoundError\u001b[0m                         Traceback (most recent call last)",
      "Cell \u001b[0;32mIn[20], line 1\u001b[0m\n\u001b[0;32m----> 1\u001b[0m X_train_200, X_train_100, X_train_50, y_train, X_test_200, X_test_100, X_test_50 \u001b[39m=\u001b[39m data_input()\n",
      "Cell \u001b[0;32mIn[19], line 16\u001b[0m, in \u001b[0;36mdata_input\u001b[0;34m(path)\u001b[0m\n\u001b[1;32m     14\u001b[0m data_train_path \u001b[39m=\u001b[39m os\u001b[39m.\u001b[39mpath\u001b[39m.\u001b[39mjoin(path, \u001b[39m'\u001b[39m\u001b[39masl_alphabet_train\u001b[39m\u001b[39m'\u001b[39m, \u001b[39mf\u001b[39m\u001b[39m'\u001b[39m\u001b[39m{\u001b[39;00mletter\u001b[39m}\u001b[39;00m\u001b[39m'\u001b[39m)\n\u001b[1;32m     15\u001b[0m \u001b[39mprint\u001b[39m(data_train_path)\n\u001b[0;32m---> 16\u001b[0m \u001b[39mfor\u001b[39;00m f \u001b[39min\u001b[39;00m os\u001b[39m.\u001b[39;49mlistdir(data_train_path):\n\u001b[1;32m     17\u001b[0m     \u001b[39mif\u001b[39;00m f\u001b[39m.\u001b[39mendswith(\u001b[39m'\u001b[39m\u001b[39m.JPG\u001b[39m\u001b[39m'\u001b[39m):\n\u001b[1;32m     18\u001b[0m         \u001b[39mprint\u001b[39m(\u001b[39mf\u001b[39m\u001b[39m\"\u001b[39m\u001b[39mprocessing file \u001b[39m\u001b[39m{\u001b[39;00mf\u001b[39m}\u001b[39;00m\u001b[39m ...... \u001b[39m\u001b[39m\"\u001b[39m)\n",
      "\u001b[0;31mFileNotFoundError\u001b[0m: [Errno 2] No such file or directory: 'raw_data/asl_alphabet_train/A'"
     ]
    }
   ],
   "source": [
    "X_train_200, X_train_100, X_train_50, y_train, X_test_200, X_test_100, X_test_50 = data_input()"
   ]
  }
 ],
 "metadata": {
  "kernelspec": {
   "display_name": "sign-language-interpretation",
   "language": "python",
   "name": "python3"
  },
  "language_info": {
   "codemirror_mode": {
    "name": "ipython",
    "version": 3
   },
   "file_extension": ".py",
   "mimetype": "text/x-python",
   "name": "python",
   "nbconvert_exporter": "python",
   "pygments_lexer": "ipython3",
   "version": "3.8.12"
  },
  "orig_nbformat": 4
 },
 "nbformat": 4,
 "nbformat_minor": 2
}
