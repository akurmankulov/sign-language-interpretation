{
  "cells": [
    {
      "cell_type": "markdown",
      "metadata": {
        "id": "o8FS80WSebxX"
      },
      "source": [
        "# This is the baseline model of the project\n"
      ]
    },
    {
      "cell_type": "code",
      "source": [
        "from google.colab import drive\n",
        "drive.mount('/content/drive')"
      ],
      "metadata": {
        "colab": {
          "base_uri": "https://localhost:8080/"
        },
        "id": "BZuq0SAkedwi",
        "outputId": "21cb2f31-af2d-4058-ab60-79eb02ac01ac"
      },
      "execution_count": 1,
      "outputs": [
        {
          "output_type": "stream",
          "name": "stdout",
          "text": [
            "Mounted at /content/drive\n"
          ]
        }
      ]
    },
    {
      "cell_type": "code",
      "source": [
        "import os\n",
        "os.chdir('/content/drive/MyDrive/Colab Notebooks/sign-language-interpretation')"
      ],
      "metadata": {
        "id": "R_jpIF-Aerop"
      },
      "execution_count": 2,
      "outputs": []
    },
    {
      "cell_type": "markdown",
      "metadata": {
        "id": "XetfALm9ebxf"
      },
      "source": [
        "### The first step is to import the necessary library"
      ]
    },
    {
      "cell_type": "code",
      "execution_count": 17,
      "metadata": {
        "id": "7FITafLaebxg"
      },
      "outputs": [],
      "source": [
        "import numpy as np\n",
        "import pandas as pd\n",
        "import seaborn as sns\n",
        "import matplotlib.pyplot as plt\n",
        "import string\n",
        "from sklearn.metrics import accuracy_score\n",
        "from sklearn.model_selection import  cross_validate, train_test_split\n",
        "from tensorflow.keras.utils import to_categorical\n",
        "from tensorflow.keras.models import Sequential,load_model\n",
        "from tensorflow.keras.layers import Dense,Conv2D,Flatten,MaxPool2D,Rescaling,Dropout,BatchNormalization,RandomZoom, RandomRotation,RandomTranslation\n",
        "from tensorflow.keras.backend import expand_dims\n",
        "from tensorflow.keras.callbacks import EarlyStopping,ReduceLROnPlateau,ModelCheckpoint\n",
        "from tensorflow.keras.regularizers import L1,L2,L1L2\n",
        "from tensorflow.keras.optimizers import Adam,RMSprop\n",
        "from tensorflow.keras import layers"
      ]
    },
    {
      "cell_type": "markdown",
      "metadata": {
        "id": "ag9KkU5webxi"
      },
      "source": [
        "### Read the train and test data"
      ]
    },
    {
      "cell_type": "code",
      "execution_count": 4,
      "metadata": {
        "colab": {
          "base_uri": "https://localhost:8080/",
          "height": 299
        },
        "id": "tkZMcdLWebxi",
        "outputId": "a7ce0b8c-f336-4a37-bfc6-13ef3701b166"
      },
      "outputs": [
        {
          "output_type": "execute_result",
          "data": {
            "text/plain": [
              "   label  pixel1  pixel2  pixel3  pixel4  pixel5  pixel6  pixel7  pixel8  \\\n",
              "0      3     107     118     127     134     139     143     146     150   \n",
              "1      6     155     157     156     156     156     157     156     158   \n",
              "2      2     187     188     188     187     187     186     187     188   \n",
              "3      2     211     211     212     212     211     210     211     210   \n",
              "4     13     164     167     170     172     176     179     180     184   \n",
              "\n",
              "   pixel9  ...  pixel775  pixel776  pixel777  pixel778  pixel779  pixel780  \\\n",
              "0     153  ...       207       207       207       207       206       206   \n",
              "1     158  ...        69       149       128        87        94       163   \n",
              "2     187  ...       202       201       200       199       198       199   \n",
              "3     210  ...       235       234       233       231       230       226   \n",
              "4     185  ...        92       105       105       108       133       163   \n",
              "\n",
              "   pixel781  pixel782  pixel783  pixel784  \n",
              "0       206       204       203       202  \n",
              "1       175       103       135       149  \n",
              "2       198       195       194       195  \n",
              "3       225       222       229       163  \n",
              "4       157       163       164       179  \n",
              "\n",
              "[5 rows x 785 columns]"
            ],
            "text/html": [
              "\n",
              "  <div id=\"df-da5e7910-de2b-4d65-aa63-e7e87bb873a4\">\n",
              "    <div class=\"colab-df-container\">\n",
              "      <div>\n",
              "<style scoped>\n",
              "    .dataframe tbody tr th:only-of-type {\n",
              "        vertical-align: middle;\n",
              "    }\n",
              "\n",
              "    .dataframe tbody tr th {\n",
              "        vertical-align: top;\n",
              "    }\n",
              "\n",
              "    .dataframe thead th {\n",
              "        text-align: right;\n",
              "    }\n",
              "</style>\n",
              "<table border=\"1\" class=\"dataframe\">\n",
              "  <thead>\n",
              "    <tr style=\"text-align: right;\">\n",
              "      <th></th>\n",
              "      <th>label</th>\n",
              "      <th>pixel1</th>\n",
              "      <th>pixel2</th>\n",
              "      <th>pixel3</th>\n",
              "      <th>pixel4</th>\n",
              "      <th>pixel5</th>\n",
              "      <th>pixel6</th>\n",
              "      <th>pixel7</th>\n",
              "      <th>pixel8</th>\n",
              "      <th>pixel9</th>\n",
              "      <th>...</th>\n",
              "      <th>pixel775</th>\n",
              "      <th>pixel776</th>\n",
              "      <th>pixel777</th>\n",
              "      <th>pixel778</th>\n",
              "      <th>pixel779</th>\n",
              "      <th>pixel780</th>\n",
              "      <th>pixel781</th>\n",
              "      <th>pixel782</th>\n",
              "      <th>pixel783</th>\n",
              "      <th>pixel784</th>\n",
              "    </tr>\n",
              "  </thead>\n",
              "  <tbody>\n",
              "    <tr>\n",
              "      <th>0</th>\n",
              "      <td>3</td>\n",
              "      <td>107</td>\n",
              "      <td>118</td>\n",
              "      <td>127</td>\n",
              "      <td>134</td>\n",
              "      <td>139</td>\n",
              "      <td>143</td>\n",
              "      <td>146</td>\n",
              "      <td>150</td>\n",
              "      <td>153</td>\n",
              "      <td>...</td>\n",
              "      <td>207</td>\n",
              "      <td>207</td>\n",
              "      <td>207</td>\n",
              "      <td>207</td>\n",
              "      <td>206</td>\n",
              "      <td>206</td>\n",
              "      <td>206</td>\n",
              "      <td>204</td>\n",
              "      <td>203</td>\n",
              "      <td>202</td>\n",
              "    </tr>\n",
              "    <tr>\n",
              "      <th>1</th>\n",
              "      <td>6</td>\n",
              "      <td>155</td>\n",
              "      <td>157</td>\n",
              "      <td>156</td>\n",
              "      <td>156</td>\n",
              "      <td>156</td>\n",
              "      <td>157</td>\n",
              "      <td>156</td>\n",
              "      <td>158</td>\n",
              "      <td>158</td>\n",
              "      <td>...</td>\n",
              "      <td>69</td>\n",
              "      <td>149</td>\n",
              "      <td>128</td>\n",
              "      <td>87</td>\n",
              "      <td>94</td>\n",
              "      <td>163</td>\n",
              "      <td>175</td>\n",
              "      <td>103</td>\n",
              "      <td>135</td>\n",
              "      <td>149</td>\n",
              "    </tr>\n",
              "    <tr>\n",
              "      <th>2</th>\n",
              "      <td>2</td>\n",
              "      <td>187</td>\n",
              "      <td>188</td>\n",
              "      <td>188</td>\n",
              "      <td>187</td>\n",
              "      <td>187</td>\n",
              "      <td>186</td>\n",
              "      <td>187</td>\n",
              "      <td>188</td>\n",
              "      <td>187</td>\n",
              "      <td>...</td>\n",
              "      <td>202</td>\n",
              "      <td>201</td>\n",
              "      <td>200</td>\n",
              "      <td>199</td>\n",
              "      <td>198</td>\n",
              "      <td>199</td>\n",
              "      <td>198</td>\n",
              "      <td>195</td>\n",
              "      <td>194</td>\n",
              "      <td>195</td>\n",
              "    </tr>\n",
              "    <tr>\n",
              "      <th>3</th>\n",
              "      <td>2</td>\n",
              "      <td>211</td>\n",
              "      <td>211</td>\n",
              "      <td>212</td>\n",
              "      <td>212</td>\n",
              "      <td>211</td>\n",
              "      <td>210</td>\n",
              "      <td>211</td>\n",
              "      <td>210</td>\n",
              "      <td>210</td>\n",
              "      <td>...</td>\n",
              "      <td>235</td>\n",
              "      <td>234</td>\n",
              "      <td>233</td>\n",
              "      <td>231</td>\n",
              "      <td>230</td>\n",
              "      <td>226</td>\n",
              "      <td>225</td>\n",
              "      <td>222</td>\n",
              "      <td>229</td>\n",
              "      <td>163</td>\n",
              "    </tr>\n",
              "    <tr>\n",
              "      <th>4</th>\n",
              "      <td>13</td>\n",
              "      <td>164</td>\n",
              "      <td>167</td>\n",
              "      <td>170</td>\n",
              "      <td>172</td>\n",
              "      <td>176</td>\n",
              "      <td>179</td>\n",
              "      <td>180</td>\n",
              "      <td>184</td>\n",
              "      <td>185</td>\n",
              "      <td>...</td>\n",
              "      <td>92</td>\n",
              "      <td>105</td>\n",
              "      <td>105</td>\n",
              "      <td>108</td>\n",
              "      <td>133</td>\n",
              "      <td>163</td>\n",
              "      <td>157</td>\n",
              "      <td>163</td>\n",
              "      <td>164</td>\n",
              "      <td>179</td>\n",
              "    </tr>\n",
              "  </tbody>\n",
              "</table>\n",
              "<p>5 rows × 785 columns</p>\n",
              "</div>\n",
              "      <button class=\"colab-df-convert\" onclick=\"convertToInteractive('df-da5e7910-de2b-4d65-aa63-e7e87bb873a4')\"\n",
              "              title=\"Convert this dataframe to an interactive table.\"\n",
              "              style=\"display:none;\">\n",
              "        \n",
              "  <svg xmlns=\"http://www.w3.org/2000/svg\" height=\"24px\"viewBox=\"0 0 24 24\"\n",
              "       width=\"24px\">\n",
              "    <path d=\"M0 0h24v24H0V0z\" fill=\"none\"/>\n",
              "    <path d=\"M18.56 5.44l.94 2.06.94-2.06 2.06-.94-2.06-.94-.94-2.06-.94 2.06-2.06.94zm-11 1L8.5 8.5l.94-2.06 2.06-.94-2.06-.94L8.5 2.5l-.94 2.06-2.06.94zm10 10l.94 2.06.94-2.06 2.06-.94-2.06-.94-.94-2.06-.94 2.06-2.06.94z\"/><path d=\"M17.41 7.96l-1.37-1.37c-.4-.4-.92-.59-1.43-.59-.52 0-1.04.2-1.43.59L10.3 9.45l-7.72 7.72c-.78.78-.78 2.05 0 2.83L4 21.41c.39.39.9.59 1.41.59.51 0 1.02-.2 1.41-.59l7.78-7.78 2.81-2.81c.8-.78.8-2.07 0-2.86zM5.41 20L4 18.59l7.72-7.72 1.47 1.35L5.41 20z\"/>\n",
              "  </svg>\n",
              "      </button>\n",
              "      \n",
              "  <style>\n",
              "    .colab-df-container {\n",
              "      display:flex;\n",
              "      flex-wrap:wrap;\n",
              "      gap: 12px;\n",
              "    }\n",
              "\n",
              "    .colab-df-convert {\n",
              "      background-color: #E8F0FE;\n",
              "      border: none;\n",
              "      border-radius: 50%;\n",
              "      cursor: pointer;\n",
              "      display: none;\n",
              "      fill: #1967D2;\n",
              "      height: 32px;\n",
              "      padding: 0 0 0 0;\n",
              "      width: 32px;\n",
              "    }\n",
              "\n",
              "    .colab-df-convert:hover {\n",
              "      background-color: #E2EBFA;\n",
              "      box-shadow: 0px 1px 2px rgba(60, 64, 67, 0.3), 0px 1px 3px 1px rgba(60, 64, 67, 0.15);\n",
              "      fill: #174EA6;\n",
              "    }\n",
              "\n",
              "    [theme=dark] .colab-df-convert {\n",
              "      background-color: #3B4455;\n",
              "      fill: #D2E3FC;\n",
              "    }\n",
              "\n",
              "    [theme=dark] .colab-df-convert:hover {\n",
              "      background-color: #434B5C;\n",
              "      box-shadow: 0px 1px 3px 1px rgba(0, 0, 0, 0.15);\n",
              "      filter: drop-shadow(0px 1px 2px rgba(0, 0, 0, 0.3));\n",
              "      fill: #FFFFFF;\n",
              "    }\n",
              "  </style>\n",
              "\n",
              "      <script>\n",
              "        const buttonEl =\n",
              "          document.querySelector('#df-da5e7910-de2b-4d65-aa63-e7e87bb873a4 button.colab-df-convert');\n",
              "        buttonEl.style.display =\n",
              "          google.colab.kernel.accessAllowed ? 'block' : 'none';\n",
              "\n",
              "        async function convertToInteractive(key) {\n",
              "          const element = document.querySelector('#df-da5e7910-de2b-4d65-aa63-e7e87bb873a4');\n",
              "          const dataTable =\n",
              "            await google.colab.kernel.invokeFunction('convertToInteractive',\n",
              "                                                     [key], {});\n",
              "          if (!dataTable) return;\n",
              "\n",
              "          const docLinkHtml = 'Like what you see? Visit the ' +\n",
              "            '<a target=\"_blank\" href=https://colab.research.google.com/notebooks/data_table.ipynb>data table notebook</a>'\n",
              "            + ' to learn more about interactive tables.';\n",
              "          element.innerHTML = '';\n",
              "          dataTable['output_type'] = 'display_data';\n",
              "          await google.colab.output.renderOutput(dataTable, element);\n",
              "          const docLink = document.createElement('div');\n",
              "          docLink.innerHTML = docLinkHtml;\n",
              "          element.appendChild(docLink);\n",
              "        }\n",
              "      </script>\n",
              "    </div>\n",
              "  </div>\n",
              "  "
            ]
          },
          "metadata": {},
          "execution_count": 4
        }
      ],
      "source": [
        "df_train = pd.read_csv('raw_data/sign_mnist_train.csv')\n",
        "df_train.head()"
      ]
    },
    {
      "cell_type": "code",
      "execution_count": 5,
      "metadata": {
        "colab": {
          "base_uri": "https://localhost:8080/",
          "height": 299
        },
        "id": "0p0knda0ebxk",
        "outputId": "130cc484-94da-48fb-b30c-4be2ac352e8c"
      },
      "outputs": [
        {
          "output_type": "execute_result",
          "data": {
            "text/plain": [
              "   label  pixel1  pixel2  pixel3  pixel4  pixel5  pixel6  pixel7  pixel8  \\\n",
              "0      6     149     149     150     150     150     151     151     150   \n",
              "1      5     126     128     131     132     133     134     135     135   \n",
              "2     10      85      88      92      96     105     123     135     143   \n",
              "3      0     203     205     207     206     207     209     210     209   \n",
              "4      3     188     191     193     195     199     201     202     203   \n",
              "\n",
              "   pixel9  ...  pixel775  pixel776  pixel777  pixel778  pixel779  pixel780  \\\n",
              "0     151  ...       138       148       127        89        82        96   \n",
              "1     136  ...        47       104       194       183       186       184   \n",
              "2     147  ...        68       166       242       227       230       227   \n",
              "3     210  ...       154       248       247       248       253       236   \n",
              "4     203  ...        26        40        64        48        29        46   \n",
              "\n",
              "   pixel781  pixel782  pixel783  pixel784  \n",
              "0       106       112       120       107  \n",
              "1       184       184       182       180  \n",
              "2       226       225       224       222  \n",
              "3       230       240       253       255  \n",
              "4        49        46        46        53  \n",
              "\n",
              "[5 rows x 785 columns]"
            ],
            "text/html": [
              "\n",
              "  <div id=\"df-b6ab62e6-02bd-4b65-ba0c-70aef042aa01\">\n",
              "    <div class=\"colab-df-container\">\n",
              "      <div>\n",
              "<style scoped>\n",
              "    .dataframe tbody tr th:only-of-type {\n",
              "        vertical-align: middle;\n",
              "    }\n",
              "\n",
              "    .dataframe tbody tr th {\n",
              "        vertical-align: top;\n",
              "    }\n",
              "\n",
              "    .dataframe thead th {\n",
              "        text-align: right;\n",
              "    }\n",
              "</style>\n",
              "<table border=\"1\" class=\"dataframe\">\n",
              "  <thead>\n",
              "    <tr style=\"text-align: right;\">\n",
              "      <th></th>\n",
              "      <th>label</th>\n",
              "      <th>pixel1</th>\n",
              "      <th>pixel2</th>\n",
              "      <th>pixel3</th>\n",
              "      <th>pixel4</th>\n",
              "      <th>pixel5</th>\n",
              "      <th>pixel6</th>\n",
              "      <th>pixel7</th>\n",
              "      <th>pixel8</th>\n",
              "      <th>pixel9</th>\n",
              "      <th>...</th>\n",
              "      <th>pixel775</th>\n",
              "      <th>pixel776</th>\n",
              "      <th>pixel777</th>\n",
              "      <th>pixel778</th>\n",
              "      <th>pixel779</th>\n",
              "      <th>pixel780</th>\n",
              "      <th>pixel781</th>\n",
              "      <th>pixel782</th>\n",
              "      <th>pixel783</th>\n",
              "      <th>pixel784</th>\n",
              "    </tr>\n",
              "  </thead>\n",
              "  <tbody>\n",
              "    <tr>\n",
              "      <th>0</th>\n",
              "      <td>6</td>\n",
              "      <td>149</td>\n",
              "      <td>149</td>\n",
              "      <td>150</td>\n",
              "      <td>150</td>\n",
              "      <td>150</td>\n",
              "      <td>151</td>\n",
              "      <td>151</td>\n",
              "      <td>150</td>\n",
              "      <td>151</td>\n",
              "      <td>...</td>\n",
              "      <td>138</td>\n",
              "      <td>148</td>\n",
              "      <td>127</td>\n",
              "      <td>89</td>\n",
              "      <td>82</td>\n",
              "      <td>96</td>\n",
              "      <td>106</td>\n",
              "      <td>112</td>\n",
              "      <td>120</td>\n",
              "      <td>107</td>\n",
              "    </tr>\n",
              "    <tr>\n",
              "      <th>1</th>\n",
              "      <td>5</td>\n",
              "      <td>126</td>\n",
              "      <td>128</td>\n",
              "      <td>131</td>\n",
              "      <td>132</td>\n",
              "      <td>133</td>\n",
              "      <td>134</td>\n",
              "      <td>135</td>\n",
              "      <td>135</td>\n",
              "      <td>136</td>\n",
              "      <td>...</td>\n",
              "      <td>47</td>\n",
              "      <td>104</td>\n",
              "      <td>194</td>\n",
              "      <td>183</td>\n",
              "      <td>186</td>\n",
              "      <td>184</td>\n",
              "      <td>184</td>\n",
              "      <td>184</td>\n",
              "      <td>182</td>\n",
              "      <td>180</td>\n",
              "    </tr>\n",
              "    <tr>\n",
              "      <th>2</th>\n",
              "      <td>10</td>\n",
              "      <td>85</td>\n",
              "      <td>88</td>\n",
              "      <td>92</td>\n",
              "      <td>96</td>\n",
              "      <td>105</td>\n",
              "      <td>123</td>\n",
              "      <td>135</td>\n",
              "      <td>143</td>\n",
              "      <td>147</td>\n",
              "      <td>...</td>\n",
              "      <td>68</td>\n",
              "      <td>166</td>\n",
              "      <td>242</td>\n",
              "      <td>227</td>\n",
              "      <td>230</td>\n",
              "      <td>227</td>\n",
              "      <td>226</td>\n",
              "      <td>225</td>\n",
              "      <td>224</td>\n",
              "      <td>222</td>\n",
              "    </tr>\n",
              "    <tr>\n",
              "      <th>3</th>\n",
              "      <td>0</td>\n",
              "      <td>203</td>\n",
              "      <td>205</td>\n",
              "      <td>207</td>\n",
              "      <td>206</td>\n",
              "      <td>207</td>\n",
              "      <td>209</td>\n",
              "      <td>210</td>\n",
              "      <td>209</td>\n",
              "      <td>210</td>\n",
              "      <td>...</td>\n",
              "      <td>154</td>\n",
              "      <td>248</td>\n",
              "      <td>247</td>\n",
              "      <td>248</td>\n",
              "      <td>253</td>\n",
              "      <td>236</td>\n",
              "      <td>230</td>\n",
              "      <td>240</td>\n",
              "      <td>253</td>\n",
              "      <td>255</td>\n",
              "    </tr>\n",
              "    <tr>\n",
              "      <th>4</th>\n",
              "      <td>3</td>\n",
              "      <td>188</td>\n",
              "      <td>191</td>\n",
              "      <td>193</td>\n",
              "      <td>195</td>\n",
              "      <td>199</td>\n",
              "      <td>201</td>\n",
              "      <td>202</td>\n",
              "      <td>203</td>\n",
              "      <td>203</td>\n",
              "      <td>...</td>\n",
              "      <td>26</td>\n",
              "      <td>40</td>\n",
              "      <td>64</td>\n",
              "      <td>48</td>\n",
              "      <td>29</td>\n",
              "      <td>46</td>\n",
              "      <td>49</td>\n",
              "      <td>46</td>\n",
              "      <td>46</td>\n",
              "      <td>53</td>\n",
              "    </tr>\n",
              "  </tbody>\n",
              "</table>\n",
              "<p>5 rows × 785 columns</p>\n",
              "</div>\n",
              "      <button class=\"colab-df-convert\" onclick=\"convertToInteractive('df-b6ab62e6-02bd-4b65-ba0c-70aef042aa01')\"\n",
              "              title=\"Convert this dataframe to an interactive table.\"\n",
              "              style=\"display:none;\">\n",
              "        \n",
              "  <svg xmlns=\"http://www.w3.org/2000/svg\" height=\"24px\"viewBox=\"0 0 24 24\"\n",
              "       width=\"24px\">\n",
              "    <path d=\"M0 0h24v24H0V0z\" fill=\"none\"/>\n",
              "    <path d=\"M18.56 5.44l.94 2.06.94-2.06 2.06-.94-2.06-.94-.94-2.06-.94 2.06-2.06.94zm-11 1L8.5 8.5l.94-2.06 2.06-.94-2.06-.94L8.5 2.5l-.94 2.06-2.06.94zm10 10l.94 2.06.94-2.06 2.06-.94-2.06-.94-.94-2.06-.94 2.06-2.06.94z\"/><path d=\"M17.41 7.96l-1.37-1.37c-.4-.4-.92-.59-1.43-.59-.52 0-1.04.2-1.43.59L10.3 9.45l-7.72 7.72c-.78.78-.78 2.05 0 2.83L4 21.41c.39.39.9.59 1.41.59.51 0 1.02-.2 1.41-.59l7.78-7.78 2.81-2.81c.8-.78.8-2.07 0-2.86zM5.41 20L4 18.59l7.72-7.72 1.47 1.35L5.41 20z\"/>\n",
              "  </svg>\n",
              "      </button>\n",
              "      \n",
              "  <style>\n",
              "    .colab-df-container {\n",
              "      display:flex;\n",
              "      flex-wrap:wrap;\n",
              "      gap: 12px;\n",
              "    }\n",
              "\n",
              "    .colab-df-convert {\n",
              "      background-color: #E8F0FE;\n",
              "      border: none;\n",
              "      border-radius: 50%;\n",
              "      cursor: pointer;\n",
              "      display: none;\n",
              "      fill: #1967D2;\n",
              "      height: 32px;\n",
              "      padding: 0 0 0 0;\n",
              "      width: 32px;\n",
              "    }\n",
              "\n",
              "    .colab-df-convert:hover {\n",
              "      background-color: #E2EBFA;\n",
              "      box-shadow: 0px 1px 2px rgba(60, 64, 67, 0.3), 0px 1px 3px 1px rgba(60, 64, 67, 0.15);\n",
              "      fill: #174EA6;\n",
              "    }\n",
              "\n",
              "    [theme=dark] .colab-df-convert {\n",
              "      background-color: #3B4455;\n",
              "      fill: #D2E3FC;\n",
              "    }\n",
              "\n",
              "    [theme=dark] .colab-df-convert:hover {\n",
              "      background-color: #434B5C;\n",
              "      box-shadow: 0px 1px 3px 1px rgba(0, 0, 0, 0.15);\n",
              "      filter: drop-shadow(0px 1px 2px rgba(0, 0, 0, 0.3));\n",
              "      fill: #FFFFFF;\n",
              "    }\n",
              "  </style>\n",
              "\n",
              "      <script>\n",
              "        const buttonEl =\n",
              "          document.querySelector('#df-b6ab62e6-02bd-4b65-ba0c-70aef042aa01 button.colab-df-convert');\n",
              "        buttonEl.style.display =\n",
              "          google.colab.kernel.accessAllowed ? 'block' : 'none';\n",
              "\n",
              "        async function convertToInteractive(key) {\n",
              "          const element = document.querySelector('#df-b6ab62e6-02bd-4b65-ba0c-70aef042aa01');\n",
              "          const dataTable =\n",
              "            await google.colab.kernel.invokeFunction('convertToInteractive',\n",
              "                                                     [key], {});\n",
              "          if (!dataTable) return;\n",
              "\n",
              "          const docLinkHtml = 'Like what you see? Visit the ' +\n",
              "            '<a target=\"_blank\" href=https://colab.research.google.com/notebooks/data_table.ipynb>data table notebook</a>'\n",
              "            + ' to learn more about interactive tables.';\n",
              "          element.innerHTML = '';\n",
              "          dataTable['output_type'] = 'display_data';\n",
              "          await google.colab.output.renderOutput(dataTable, element);\n",
              "          const docLink = document.createElement('div');\n",
              "          docLink.innerHTML = docLinkHtml;\n",
              "          element.appendChild(docLink);\n",
              "        }\n",
              "      </script>\n",
              "    </div>\n",
              "  </div>\n",
              "  "
            ]
          },
          "metadata": {},
          "execution_count": 5
        }
      ],
      "source": [
        "df_test = pd.read_csv('raw_data/sign_mnist_test.csv')\n",
        "df_test.head()"
      ]
    },
    {
      "cell_type": "code",
      "execution_count": 6,
      "metadata": {
        "colab": {
          "base_uri": "https://localhost:8080/"
        },
        "id": "9D5CUk0mebxk",
        "outputId": "75d8a3d9-80e6-4070-c796-1804a5544d0d"
      },
      "outputs": [
        {
          "output_type": "stream",
          "name": "stdout",
          "text": [
            "(27455, 784) (27455,)\n"
          ]
        }
      ],
      "source": [
        "X = df_train.drop(columns='label')\n",
        "y = df_train['label'].copy()\n",
        "print(X.shape,y.shape)"
      ]
    },
    {
      "cell_type": "code",
      "source": [
        "X_train,X_val,y_train,y_val = train_test_split(X,y,test_size=0.2,stratify=y,random_state = 42)\n",
        "print(X_train.shape,X_val.shape,y_train.shape,y_val.shape)"
      ],
      "metadata": {
        "colab": {
          "base_uri": "https://localhost:8080/"
        },
        "id": "BURnZAMMjwpN",
        "outputId": "23ea948a-518f-4042-b28f-bd21c1b8099c"
      },
      "execution_count": 7,
      "outputs": [
        {
          "output_type": "stream",
          "name": "stdout",
          "text": [
            "(21964, 784) (5491, 784) (21964,) (5491,)\n"
          ]
        }
      ]
    },
    {
      "cell_type": "code",
      "execution_count": 8,
      "metadata": {
        "colab": {
          "base_uri": "https://localhost:8080/"
        },
        "id": "URTAwaBpebxl",
        "outputId": "be8653d6-e774-4d05-c8a9-66c2e5ce3d75"
      },
      "outputs": [
        {
          "output_type": "stream",
          "name": "stdout",
          "text": [
            "(7172, 784) (7172,)\n"
          ]
        }
      ],
      "source": [
        "X_test = df_test.drop(columns='label')\n",
        "y_test = df_test['label'].copy()\n",
        "print(X_test.shape,y_test.shape)"
      ]
    },
    {
      "cell_type": "code",
      "execution_count": 9,
      "metadata": {
        "colab": {
          "base_uri": "https://localhost:8080/"
        },
        "id": "GfB7sL97ebxm",
        "outputId": "e930e834-df03-404d-8fb9-4e26fc247dc7"
      },
      "outputs": [
        {
          "output_type": "stream",
          "name": "stdout",
          "text": [
            "(21964, 28, 28) (5491, 28, 28) (7172, 28, 28)\n"
          ]
        }
      ],
      "source": [
        "X_train_reshape = np.reshape(np.array(X_train), (X_train.shape[0],28,28))\n",
        "X_val_reshape = np.reshape(np.array(X_val),(X_val.shape[0],28,28))\n",
        "X_test_reshape = np.reshape(np.array(X_test),(X_test.shape[0],28,28))\n",
        "print(X_train_reshape.shape,X_val_reshape.shape,X_test_reshape.shape)"
      ]
    },
    {
      "cell_type": "code",
      "execution_count": 10,
      "metadata": {
        "colab": {
          "base_uri": "https://localhost:8080/"
        },
        "id": "Ahb_StiXebxm",
        "outputId": "d4c14970-edd7-45d2-ed0b-afdd34fc1e40"
      },
      "outputs": [
        {
          "output_type": "stream",
          "name": "stdout",
          "text": [
            "(21964, 28, 28, 1) (5491, 28, 28) (7172, 28, 28, 1)\n"
          ]
        }
      ],
      "source": [
        "X_train_dim = expand_dims(X_train_reshape)\n",
        "X_val_dim = expand_dims(X_val_reshape)\n",
        "X_test_dim = expand_dims(X_test_reshape)\n",
        "print(X_train_dim.shape,X_val_reshape.shape,X_test_dim.shape)"
      ]
    },
    {
      "cell_type": "code",
      "execution_count": 11,
      "metadata": {
        "colab": {
          "base_uri": "https://localhost:8080/"
        },
        "id": "29yPq0e9ebxn",
        "outputId": "b6e49877-ac53-4f35-8e62-5fde764c9ae0"
      },
      "outputs": [
        {
          "output_type": "stream",
          "name": "stdout",
          "text": [
            "(21964, 25) (5491, 25) (7172, 25)\n"
          ]
        }
      ],
      "source": [
        "y_train_cat = to_categorical(y_train)\n",
        "y_val_cat = to_categorical(y_val)\n",
        "y_test_cat = to_categorical(y_test)\n",
        "print(y_train_cat.shape,y_val_cat.shape,y_test_cat.shape)"
      ]
    },
    {
      "cell_type": "code",
      "source": [
        "y_val.value_counts()"
      ],
      "metadata": {
        "colab": {
          "base_uri": "https://localhost:8080/"
        },
        "id": "sx6KVYfqln7z",
        "outputId": "4f9d9052-bf12-48f2-f27b-6a758ea3e42d"
      },
      "execution_count": 12,
      "outputs": [
        {
          "output_type": "execute_result",
          "data": {
            "text/plain": [
              "17    259\n",
              "16    256\n",
              "11    248\n",
              "22    245\n",
              "5     241\n",
              "18    240\n",
              "14    239\n",
              "3     239\n",
              "19    237\n",
              "23    233\n",
              "20    232\n",
              "8     232\n",
              "13    230\n",
              "2     229\n",
              "0     225\n",
              "24    224\n",
              "10    223\n",
              "6     218\n",
              "15    218\n",
              "21    216\n",
              "12    211\n",
              "7     203\n",
              "1     202\n",
              "4     191\n",
              "Name: label, dtype: int64"
            ]
          },
          "metadata": {},
          "execution_count": 12
        }
      ]
    },
    {
      "cell_type": "markdown",
      "metadata": {
        "id": "2bmX92haebxo"
      },
      "source": [
        "## The first model just use the more complicated model, with some dropout to avoid overfitting"
      ]
    },
    {
      "cell_type": "code",
      "execution_count": 13,
      "metadata": {
        "id": "yQ0-A0cHebxo"
      },
      "outputs": [],
      "source": [
        "def initialize_model1():\n",
        "    adam = Adam(learning_rate=0.001)\n",
        "    model = Sequential()\n",
        "    # Add an scaling layers to normalize the image\n",
        "    model.add(Rescaling(1./255,input_shape = (28,28,1)))\n",
        "\n",
        "    ### First Convolution & MaxPooling\n",
        "    model.add(Conv2D(75, kernel_size = (3,3),activation = 'relu', padding = 'same'))\n",
        "    model.add(MaxPool2D(pool_size = (2,2),padding = 'same'))\n",
        "    \n",
        "    ### Second Convolution & MaxPooling\n",
        "    model.add(Conv2D(50, kernel_size = (3,3), activation = 'relu', padding = 'same'))\n",
        "    model.add(MaxPool2D(pool_size = (2,2),padding = 'same'))\n",
        "\n",
        "\n",
        "    ### Third Convolution & MaxPooling\n",
        "    model.add(Conv2D(25, kernel_size = (3,3), activation = 'relu', padding = 'same'))\n",
        "    model.add(Dropout(0.2))\n",
        "    model.add(MaxPool2D(pool_size = (2,2),padding = 'same'))\n",
        "\n",
        "    ### Flattening\n",
        "    model.add(Flatten())\n",
        "    \n",
        "    ### One Fully Connected layer - \"Fully Connected\" is equivalent to saying \"Dense\"\n",
        "    model.add(Dense(512,activation = 'relu'))\n",
        "    model.add(Dropout(0.3))\n",
        "    \n",
        "    ### Last layer - Classification Layer with 10 outputs corresponding to 10 digits\n",
        "    model.add(Dense(25,activation = 'softmax'))\n",
        "    \n",
        "    ### Model compilation\n",
        "    model.compile(loss = 'categorical_crossentropy', optimizer = 'adam',metrics = ['accuracy'])\n",
        "    \n",
        "    return model"
      ]
    },
    {
      "cell_type": "code",
      "execution_count": 53,
      "metadata": {
        "id": "tkTz5VJsebxq"
      },
      "outputs": [],
      "source": [
        "es = EarlyStopping(patience = 2, restore_best_weights = True,verbose=0)\n",
        "reduc_lr = ReduceLROnPlateau(patience=2,verbose=1)"
      ]
    },
    {
      "cell_type": "code",
      "source": [
        "cnn_model_01 = initialize_model1()"
      ],
      "metadata": {
        "id": "HJRtXLxu9lJG"
      },
      "execution_count": 58,
      "outputs": []
    },
    {
      "cell_type": "code",
      "execution_count": 59,
      "metadata": {
        "colab": {
          "base_uri": "https://localhost:8080/"
        },
        "id": "XGz8zbbRebxq",
        "outputId": "76b847f3-aefa-4ed8-c76f-a4cc44367f13"
      },
      "outputs": [
        {
          "output_type": "stream",
          "name": "stdout",
          "text": [
            "Epoch 1/20\n",
            "172/172 [==============================] - 4s 11ms/step - loss: 1.8900 - accuracy: 0.4216 - val_loss: 0.5660 - val_accuracy: 0.8488 - lr: 0.0010\n",
            "Epoch 2/20\n",
            "172/172 [==============================] - 2s 9ms/step - loss: 0.3805 - accuracy: 0.8698 - val_loss: 0.1096 - val_accuracy: 0.9729 - lr: 0.0010\n",
            "Epoch 3/20\n",
            "172/172 [==============================] - 2s 9ms/step - loss: 0.1359 - accuracy: 0.9555 - val_loss: 0.0285 - val_accuracy: 0.9984 - lr: 0.0010\n",
            "Epoch 4/20\n",
            "172/172 [==============================] - 2s 9ms/step - loss: 0.0620 - accuracy: 0.9816 - val_loss: 0.0105 - val_accuracy: 1.0000 - lr: 0.0010\n",
            "Epoch 5/20\n",
            "172/172 [==============================] - 2s 10ms/step - loss: 0.0411 - accuracy: 0.9876 - val_loss: 0.0085 - val_accuracy: 0.9987 - lr: 0.0010\n",
            "Epoch 6/20\n",
            "172/172 [==============================] - 2s 11ms/step - loss: 0.0256 - accuracy: 0.9928 - val_loss: 0.0039 - val_accuracy: 0.9996 - lr: 0.0010\n",
            "Epoch 7/20\n",
            "172/172 [==============================] - 2s 10ms/step - loss: 0.0196 - accuracy: 0.9941 - val_loss: 0.0029 - val_accuracy: 0.9998 - lr: 0.0010\n",
            "Epoch 8/20\n",
            "172/172 [==============================] - 2s 9ms/step - loss: 0.0172 - accuracy: 0.9949 - val_loss: 0.0033 - val_accuracy: 1.0000 - lr: 0.0010\n",
            "Epoch 9/20\n",
            "172/172 [==============================] - 2s 9ms/step - loss: 0.0219 - accuracy: 0.9929 - val_loss: 0.0018 - val_accuracy: 0.9998 - lr: 0.0010\n",
            "Epoch 10/20\n",
            "172/172 [==============================] - 2s 9ms/step - loss: 0.0124 - accuracy: 0.9963 - val_loss: 8.8424e-04 - val_accuracy: 1.0000 - lr: 0.0010\n",
            "Epoch 11/20\n",
            "172/172 [==============================] - 2s 9ms/step - loss: 0.0095 - accuracy: 0.9969 - val_loss: 0.0023 - val_accuracy: 0.9996 - lr: 0.0010\n",
            "Epoch 12/20\n",
            "172/172 [==============================] - 2s 9ms/step - loss: 0.0099 - accuracy: 0.9969 - val_loss: 4.3886e-04 - val_accuracy: 1.0000 - lr: 0.0010\n",
            "Epoch 13/20\n",
            "172/172 [==============================] - 2s 12ms/step - loss: 0.0095 - accuracy: 0.9971 - val_loss: 0.0018 - val_accuracy: 0.9996 - lr: 0.0010\n",
            "Epoch 14/20\n",
            "167/172 [============================>.] - ETA: 0s - loss: 0.0112 - accuracy: 0.9968\n",
            "Epoch 14: ReduceLROnPlateau reducing learning rate to 0.00010000000474974513.\n",
            "172/172 [==============================] - 3s 18ms/step - loss: 0.0113 - accuracy: 0.9967 - val_loss: 0.0018 - val_accuracy: 0.9995 - lr: 0.0010\n"
          ]
        }
      ],
      "source": [
        "history1 = cnn_model_01.fit(X_train_dim, y_train_cat,epochs=20,batch_size=128,validation_data = (X_val_dim,y_val_cat),callbacks=[es,reduc_lr])"
      ]
    },
    {
      "cell_type": "code",
      "execution_count": 60,
      "metadata": {
        "colab": {
          "base_uri": "https://localhost:8080/"
        },
        "id": "etxJ_GDgebxr",
        "outputId": "9a561657-5262-414d-abbc-5da5b273d344"
      },
      "outputs": [
        {
          "output_type": "stream",
          "name": "stdout",
          "text": [
            "225/225 [==============================] - 1s 3ms/step - loss: 0.1437 - accuracy: 0.9587\n"
          ]
        },
        {
          "output_type": "execute_result",
          "data": {
            "text/plain": [
              "[0.14370176196098328, 0.9587283730506897]"
            ]
          },
          "metadata": {},
          "execution_count": 60
        }
      ],
      "source": [
        "results1 = cnn_model_01.evaluate(X_test_dim,y_test_cat)\n",
        "results1"
      ]
    },
    {
      "cell_type": "code",
      "source": [
        "def plot_history(history):\n",
        "    fig, ax = plt.subplots(1, 2, figsize=(15,5))\n",
        "    ax[0].set_title('loss')\n",
        "    ax[0].plot(history.epoch, history.history[\"loss\"], label=\"Train loss\")\n",
        "    ax[0].plot(history.epoch, history.history[\"val_loss\"], label=\"Validation loss\")\n",
        "    ax[1].set_title('accuracy')\n",
        "    ax[1].plot(history.epoch, history.history[\"accuracy\"], label=\"Train acc\")\n",
        "    ax[1].plot(history.epoch, history.history[\"val_accuracy\"], label=\"Validation acc\")\n",
        "    ax[0].legend()\n",
        "    ax[1].legend()"
      ],
      "metadata": {
        "id": "GFy03UP7or3I"
      },
      "execution_count": 61,
      "outputs": []
    },
    {
      "cell_type": "code",
      "source": [
        "plot_history(history1)"
      ],
      "metadata": {
        "colab": {
          "base_uri": "https://localhost:8080/",
          "height": 468
        },
        "id": "dSv6bbVjouNf",
        "outputId": "dedccf8e-5666-497d-f4b1-cf614687f2a5"
      },
      "execution_count": 62,
      "outputs": [
        {
          "output_type": "display_data",
          "data": {
            "text/plain": [
              "<Figure size 1500x500 with 2 Axes>"
            ],
            "image/png": "[encoded data removed]"
          },
          "metadata": {}
        }
      ]
    },
    {
      "cell_type": "code",
      "source": [
        "def initialize_model2():\n",
        "\n",
        "    model = Sequential()\n",
        "    # Add an scaling layers to normalize the image\n",
        "    model.add(Rescaling(1./255,input_shape = (28,28,1)))\n",
        "\n",
        "    ### First Convolution & MaxPooling\n",
        "    model.add(Conv2D(75, kernel_size = (3,3),activation = 'relu', padding = 'same'))\n",
        "    model.add(BatchNormalization())\n",
        "    model.add(MaxPool2D(pool_size = (2,2),padding = 'same'))\n",
        "    \n",
        "    ### Second Convolution & MaxPooling\n",
        "    model.add(Conv2D(50, kernel_size = (3,3), activation = 'relu', padding = 'same'))\n",
        "    model.add(Dropout(0.2))\n",
        "    model.add(BatchNormalization())\n",
        "    model.add(MaxPool2D(pool_size = (2,2),padding = 'same'))\n",
        "\n",
        "\n",
        "    ### Third Convolution & MaxPooling\n",
        "    model.add(Conv2D(25, kernel_size = (3,3), activation = 'relu', padding = 'same'))\n",
        "    model.add(Dropout(0.2))\n",
        "    model.add(BatchNormalization())\n",
        "    model.add(MaxPool2D(pool_size = (2,2),padding = 'same'))\n",
        "\n",
        "    ### Flattening\n",
        "    model.add(Flatten())\n",
        "    \n",
        "    ### One Fully Connected layer - \"Fully Connected\" is equivalent to saying \"Dense\"\n",
        "    model.add(Dense(512,activation = 'relu'))\n",
        "    model.add(Dropout(0.3))\n",
        "    \n",
        "    ### Last layer - Classification Layer with 10 outputs corresponding to 10 digits\n",
        "    model.add(Dense(25,activation = 'softmax'))\n",
        "    \n",
        "    ### Model compilation\n",
        "    model.compile(loss = 'categorical_crossentropy', optimizer = 'adam',metrics = ['accuracy'])\n",
        "    \n",
        "    return model"
      ],
      "metadata": {
        "id": "czelu2R5q2fo"
      },
      "execution_count": 63,
      "outputs": []
    },
    {
      "cell_type": "code",
      "source": [
        "cnn_model_02 = initialize_model2() "
      ],
      "metadata": {
        "id": "xNWtwcIcrMLT"
      },
      "execution_count": 64,
      "outputs": []
    },
    {
      "cell_type": "code",
      "source": [
        "history2 = cnn_model_02.fit(X_train_dim, y_train_cat,epochs=20,batch_size=128,validation_data = (X_val_dim,y_val_cat),callbacks=[es,reduc_lr])"
      ],
      "metadata": {
        "colab": {
          "base_uri": "https://localhost:8080/"
        },
        "id": "BFuFOobWsHr_",
        "outputId": "db182267-43a3-47cd-c442-d403c3a59852"
      },
      "execution_count": 65,
      "outputs": [
        {
          "output_type": "stream",
          "name": "stdout",
          "text": [
            "Epoch 1/20\n",
            "172/172 [==============================] - 5s 15ms/step - loss: 0.8127 - accuracy: 0.7555 - val_loss: 3.3777 - val_accuracy: 0.0390 - lr: 0.0010\n",
            "Epoch 2/20\n",
            "172/172 [==============================] - 2s 13ms/step - loss: 0.0678 - accuracy: 0.9812 - val_loss: 1.7831 - val_accuracy: 0.4149 - lr: 0.0010\n",
            "Epoch 3/20\n",
            "172/172 [==============================] - 3s 15ms/step - loss: 0.0241 - accuracy: 0.9942 - val_loss: 0.2899 - val_accuracy: 0.9262 - lr: 0.0010\n",
            "Epoch 4/20\n",
            "172/172 [==============================] - 2s 14ms/step - loss: 0.0159 - accuracy: 0.9961 - val_loss: 0.0256 - val_accuracy: 0.9969 - lr: 0.0010\n",
            "Epoch 5/20\n",
            "172/172 [==============================] - 2s 13ms/step - loss: 0.0113 - accuracy: 0.9971 - val_loss: 0.0053 - val_accuracy: 1.0000 - lr: 0.0010\n",
            "Epoch 6/20\n",
            "172/172 [==============================] - 2s 13ms/step - loss: 0.0103 - accuracy: 0.9969 - val_loss: 0.1252 - val_accuracy: 0.9568 - lr: 0.0010\n",
            "Epoch 7/20\n",
            "168/172 [============================>.] - ETA: 0s - loss: 0.0110 - accuracy: 0.9964\n",
            "Epoch 7: ReduceLROnPlateau reducing learning rate to 0.00010000000474974513.\n",
            "172/172 [==============================] - 2s 13ms/step - loss: 0.0113 - accuracy: 0.9962 - val_loss: 0.0599 - val_accuracy: 0.9776 - lr: 0.0010\n"
          ]
        }
      ]
    },
    {
      "cell_type": "code",
      "source": [
        "results2 = cnn_model_02.evaluate(X_test_dim,y_test_cat)\n",
        "results2"
      ],
      "metadata": {
        "colab": {
          "base_uri": "https://localhost:8080/"
        },
        "id": "UEn9tDVosvAY",
        "outputId": "4addc487-c02d-4d24-fa0c-e9b11897e055"
      },
      "execution_count": 66,
      "outputs": [
        {
          "output_type": "stream",
          "name": "stdout",
          "text": [
            "225/225 [==============================] - 1s 3ms/step - loss: 0.1363 - accuracy: 0.9568\n"
          ]
        },
        {
          "output_type": "execute_result",
          "data": {
            "text/plain": [
              "[0.13628163933753967, 0.9567763805389404]"
            ]
          },
          "metadata": {},
          "execution_count": 66
        }
      ]
    },
    {
      "cell_type": "code",
      "source": [
        "plot_history(history2)"
      ],
      "metadata": {
        "colab": {
          "base_uri": "https://localhost:8080/",
          "height": 468
        },
        "id": "8ldRzEgIs9yA",
        "outputId": "8455bc35-ffbb-4941-d703-c07d17425393"
      },
      "execution_count": 67,
      "outputs": [
        {
          "output_type": "display_data",
          "data": {
            "text/plain": [
              "<Figure size 1500x500 with 2 Axes>"
            ],
            "image/png": "[encoded data removed]"
          },
          "metadata": {}
        }
      ]
    },
    {
      "cell_type": "code",
      "source": [
        "def initialize_model3():\n",
        "\n",
        "    model = Sequential()\n",
        "    # Add an scaling layers to normalize the image\n",
        "    model.add(Rescaling(1./255,input_shape = (28,28,1)))\n",
        "\n",
        "    # Add Data Augmentation layers\n",
        "    model.add(layers.RandomZoom(0.1))\n",
        "    model.add(layers.RandomTranslation(0.1, 0.1))\n",
        "    model.add(layers.RandomRotation(0.1))\n",
        "\n",
        "\n",
        "    ### First Convolution & MaxPooling\n",
        "    model.add(Conv2D(75, kernel_size = (3,3),activation = 'relu', padding = 'same'))\n",
        "    model.add(BatchNormalization())\n",
        "    model.add(MaxPool2D(pool_size = (2,2),padding = 'same'))\n",
        "    \n",
        "    ### Second Convolution & MaxPooling\n",
        "    model.add(Conv2D(50, kernel_size = (3,3), activation = 'relu', padding = 'same'))\n",
        "    model.add(Dropout(0.2))\n",
        "    model.add(BatchNormalization())\n",
        "    model.add(MaxPool2D(pool_size = (2,2),padding = 'same'))\n",
        "\n",
        "\n",
        "    ### Third Convolution & MaxPooling\n",
        "    model.add(Conv2D(25, kernel_size = (3,3), activation = 'relu', padding = 'same'))\n",
        "    model.add(Dropout(0.2))\n",
        "    model.add(BatchNormalization())\n",
        "    model.add(MaxPool2D(pool_size = (2,2),padding = 'same'))\n",
        "\n",
        "    ### Flattening\n",
        "    model.add(Flatten())\n",
        "    \n",
        "    ### One Fully Connected layer - \"Fully Connected\" is equivalent to saying \"Dense\"\n",
        "    model.add(Dense(512,activation = 'relu'))\n",
        "    model.add(Dropout(0.3))\n",
        "    \n",
        "    ### Last layer - Classification Layer with 10 outputs corresponding to 10 digits\n",
        "    model.add(Dense(25,activation = 'softmax'))\n",
        "    \n",
        "    ### Model compilation\n",
        "    model.compile(loss = 'categorical_crossentropy', optimizer = 'adam',metrics = ['accuracy'])\n",
        "    \n",
        "    return model"
      ],
      "metadata": {
        "id": "zD7-TGamtJjc"
      },
      "execution_count": 68,
      "outputs": []
    },
    {
      "cell_type": "code",
      "source": [
        "cnn_model_03 = initialize_model3() "
      ],
      "metadata": {
        "id": "pR1zZ1-xvNJ1"
      },
      "execution_count": 69,
      "outputs": []
    },
    {
      "cell_type": "code",
      "source": [
        "history3 = cnn_model_03.fit(X_train_dim, y_train_cat,epochs=20,batch_size=128,validation_data = (X_val_dim,y_val_cat),callbacks=[es,reduc_lr])"
      ],
      "metadata": {
        "colab": {
          "base_uri": "https://localhost:8080/"
        },
        "id": "bDMxs5EBvRYd",
        "outputId": "9f335858-1dab-40d1-9626-280616653d26"
      },
      "execution_count": 70,
      "outputs": [
        {
          "output_type": "stream",
          "name": "stdout",
          "text": [
            "Epoch 1/20\n",
            "172/172 [==============================] - 6s 17ms/step - loss: 1.8822 - accuracy: 0.4140 - val_loss: 3.9104 - val_accuracy: 0.0750 - lr: 0.0010\n",
            "Epoch 2/20\n",
            "172/172 [==============================] - 3s 15ms/step - loss: 0.8348 - accuracy: 0.7149 - val_loss: 3.3710 - val_accuracy: 0.1100 - lr: 0.0010\n",
            "Epoch 3/20\n",
            "172/172 [==============================] - 3s 15ms/step - loss: 0.5101 - accuracy: 0.8234 - val_loss: 0.9878 - val_accuracy: 0.6416 - lr: 0.0010\n",
            "Epoch 4/20\n",
            "172/172 [==============================] - 3s 17ms/step - loss: 0.3485 - accuracy: 0.8801 - val_loss: 0.2112 - val_accuracy: 0.9337 - lr: 0.0010\n",
            "Epoch 5/20\n",
            "172/172 [==============================] - 3s 15ms/step - loss: 0.2633 - accuracy: 0.9097 - val_loss: 0.2399 - val_accuracy: 0.9148 - lr: 0.0010\n",
            "Epoch 6/20\n",
            "172/172 [==============================] - 3s 15ms/step - loss: 0.2136 - accuracy: 0.9268 - val_loss: 0.1184 - val_accuracy: 0.9623 - lr: 0.0010\n",
            "Epoch 7/20\n",
            "172/172 [==============================] - 2s 14ms/step - loss: 0.1713 - accuracy: 0.9410 - val_loss: 0.1242 - val_accuracy: 0.9645 - lr: 0.0010\n",
            "Epoch 8/20\n",
            "169/172 [============================>.] - ETA: 0s - loss: 0.1507 - accuracy: 0.9488\n",
            "Epoch 8: ReduceLROnPlateau reducing learning rate to 0.00010000000474974513.\n",
            "172/172 [==============================] - 3s 15ms/step - loss: 0.1503 - accuracy: 0.9491 - val_loss: 0.2410 - val_accuracy: 0.9111 - lr: 0.0010\n"
          ]
        }
      ]
    },
    {
      "cell_type": "code",
      "source": [
        "c"
      ],
      "metadata": {
        "colab": {
          "base_uri": "https://localhost:8080/"
        },
        "id": "9nQu4Z_Yvcz5",
        "outputId": "f090169b-6625-4c9f-f94a-2c592e9f2559"
      },
      "execution_count": 71,
      "outputs": [
        {
          "output_type": "stream",
          "name": "stdout",
          "text": [
            "225/225 [==============================] - 1s 3ms/step - loss: 0.1890 - accuracy: 0.9306\n"
          ]
        },
        {
          "output_type": "execute_result",
          "data": {
            "text/plain": [
              "[0.18899989128112793, 0.9305633306503296]"
            ]
          },
          "metadata": {},
          "execution_count": 71
        }
      ]
    },
    {
      "cell_type": "code",
      "source": [
        "def initialize_model4():\n",
        "\n",
        "    model = Sequential()\n",
        "    # Add an scaling layers to normalize the image\n",
        "    model.add(Rescaling(1./255,input_shape = (28,28,1)))\n",
        "\n",
        "    # Add Data Augmentation layers\n",
        "    model.add(layers.RandomZoom(0.1))\n",
        "    model.add(layers.RandomTranslation(0.1, 0.1))\n",
        "    model.add(layers.RandomRotation(0.1))\n",
        "\n",
        "\n",
        "    ### First Convolution & MaxPooling\n",
        "    model.add(Conv2D(75, kernel_size = (3,3),activation = 'relu', padding = 'same'))\n",
        "    model.add(BatchNormalization())\n",
        "    model.add(Dropout(0.3))\n",
        "    model.add(MaxPool2D(pool_size = (2,2),padding = 'same'))\n",
        "    \n",
        "    ### Second Convolution & MaxPooling\n",
        "    model.add(Conv2D(50, kernel_size = (3,3), activation = 'relu', padding = 'same'))\n",
        "    model.add(Dropout(0.3))\n",
        "    model.add(BatchNormalization())\n",
        "    model.add(MaxPool2D(pool_size = (2,2),padding = 'same'))\n",
        "\n",
        "\n",
        "    ### Third Convolution & MaxPooling\n",
        "    model.add(Conv2D(25, kernel_size = (3,3), activation = 'relu', padding = 'same'))\n",
        "    model.add(Dropout(0.3))\n",
        "    model.add(BatchNormalization())\n",
        "    model.add(MaxPool2D(pool_size = (2,2),padding = 'same'))\n",
        "\n",
        "    ### Flattening\n",
        "    model.add(Flatten())\n",
        "    \n",
        "    ### One Fully Connected layer - \"Fully Connected\" is equivalent to saying \"Dense\"\n",
        "    model.add(Dense(256,activation = 'relu'))\n",
        "    model.add(Dropout(0.3))\n",
        "    \n",
        "    ### Last layer - Classification Layer with 10 outputs corresponding to 10 digits\n",
        "    model.add(Dense(25,activation = 'softmax'))\n",
        "    \n",
        "    ### Model compilation\n",
        "    model.compile(loss = 'categorical_crossentropy', optimizer = 'adam',metrics = ['accuracy'])\n",
        "    \n",
        "    return model"
      ],
      "metadata": {
        "id": "w6g7LvbWA3aE"
      },
      "execution_count": 79,
      "outputs": []
    },
    {
      "cell_type": "code",
      "source": [
        "es2 = EarlyStopping(patience = 5, restore_best_weights = True,verbose=0)\n",
        "reduc_lr2 = ReduceLROnPlateau(patience=5,verbose=1)"
      ],
      "metadata": {
        "id": "lp1SijaVBpWi"
      },
      "execution_count": 75,
      "outputs": []
    },
    {
      "cell_type": "code",
      "source": [
        "cnn_model_04 = initialize_model4() "
      ],
      "metadata": {
        "id": "ILfA20MgCWSy"
      },
      "execution_count": 80,
      "outputs": []
    },
    {
      "cell_type": "code",
      "source": [
        "history4 = cnn_model_04.fit(X_train_dim, y_train_cat,epochs=50,batch_size=128,validation_data = (X_val_dim,y_val_cat),callbacks=[es2,reduc_lr2])"
      ],
      "metadata": {
        "colab": {
          "base_uri": "https://localhost:8080/"
        },
        "id": "yT2a-VTFBagC",
        "outputId": "d80d7e5b-d959-4fda-9b25-4e1c08c275be"
      },
      "execution_count": 81,
      "outputs": [
        {
          "output_type": "stream",
          "name": "stdout",
          "text": [
            "Epoch 1/50\n",
            "172/172 [==============================] - 8s 19ms/step - loss: 2.3986 - accuracy: 0.2750 - val_loss: 4.2912 - val_accuracy: 0.0922 - lr: 0.0010\n",
            "Epoch 2/50\n",
            "172/172 [==============================] - 3s 16ms/step - loss: 1.3048 - accuracy: 0.5629 - val_loss: 3.1863 - val_accuracy: 0.2306 - lr: 0.0010\n",
            "Epoch 3/50\n",
            "172/172 [==============================] - 3s 16ms/step - loss: 0.8583 - accuracy: 0.7047 - val_loss: 1.4451 - val_accuracy: 0.5280 - lr: 0.0010\n",
            "Epoch 4/50\n",
            "172/172 [==============================] - 3s 19ms/step - loss: 0.6092 - accuracy: 0.7898 - val_loss: 0.7167 - val_accuracy: 0.7334 - lr: 0.0010\n",
            "Epoch 5/50\n",
            "172/172 [==============================] - 3s 17ms/step - loss: 0.4818 - accuracy: 0.8329 - val_loss: 0.7349 - val_accuracy: 0.7492 - lr: 0.0010\n",
            "Epoch 6/50\n",
            "172/172 [==============================] - 3s 16ms/step - loss: 0.3860 - accuracy: 0.8662 - val_loss: 0.9434 - val_accuracy: 0.6968 - lr: 0.0010\n",
            "Epoch 7/50\n",
            "172/172 [==============================] - 3s 16ms/step - loss: 0.3280 - accuracy: 0.8868 - val_loss: 0.4928 - val_accuracy: 0.8365 - lr: 0.0010\n",
            "Epoch 8/50\n",
            "172/172 [==============================] - 4s 23ms/step - loss: 0.2775 - accuracy: 0.9050 - val_loss: 0.3487 - val_accuracy: 0.8838 - lr: 0.0010\n",
            "Epoch 9/50\n",
            "172/172 [==============================] - 4s 21ms/step - loss: 0.2487 - accuracy: 0.9140 - val_loss: 0.6518 - val_accuracy: 0.7775 - lr: 0.0010\n",
            "Epoch 10/50\n",
            "172/172 [==============================] - 3s 16ms/step - loss: 0.2261 - accuracy: 0.9215 - val_loss: 0.2896 - val_accuracy: 0.8960 - lr: 0.0010\n",
            "Epoch 11/50\n",
            "172/172 [==============================] - 3s 16ms/step - loss: 0.1976 - accuracy: 0.9299 - val_loss: 0.0906 - val_accuracy: 0.9700 - lr: 0.0010\n",
            "Epoch 12/50\n",
            "172/172 [==============================] - 3s 16ms/step - loss: 0.1827 - accuracy: 0.9371 - val_loss: 0.1726 - val_accuracy: 0.9355 - lr: 0.0010\n",
            "Epoch 13/50\n",
            "172/172 [==============================] - 3s 20ms/step - loss: 0.1724 - accuracy: 0.9396 - val_loss: 0.0731 - val_accuracy: 0.9778 - lr: 0.0010\n",
            "Epoch 14/50\n",
            "172/172 [==============================] - 3s 16ms/step - loss: 0.1644 - accuracy: 0.9436 - val_loss: 0.1730 - val_accuracy: 0.9388 - lr: 0.0010\n",
            "Epoch 15/50\n",
            "172/172 [==============================] - 3s 16ms/step - loss: 0.1503 - accuracy: 0.9489 - val_loss: 0.0814 - val_accuracy: 0.9729 - lr: 0.0010\n",
            "Epoch 16/50\n",
            "172/172 [==============================] - 3s 16ms/step - loss: 0.1363 - accuracy: 0.9543 - val_loss: 0.1103 - val_accuracy: 0.9634 - lr: 0.0010\n",
            "Epoch 17/50\n",
            "172/172 [==============================] - 3s 18ms/step - loss: 0.1407 - accuracy: 0.9518 - val_loss: 0.1135 - val_accuracy: 0.9579 - lr: 0.0010\n",
            "Epoch 18/50\n",
            "170/172 [============================>.] - ETA: 0s - loss: 0.1287 - accuracy: 0.9548\n",
            "Epoch 18: ReduceLROnPlateau reducing learning rate to 0.00010000000474974513.\n",
            "172/172 [==============================] - 3s 19ms/step - loss: 0.1288 - accuracy: 0.9547 - val_loss: 0.1963 - val_accuracy: 0.9337 - lr: 0.0010\n"
          ]
        }
      ]
    },
    {
      "cell_type": "code",
      "source": [
        "results4 = cnn_model_04.evaluate(X_test_dim,y_test_cat)\n",
        "results4"
      ],
      "metadata": {
        "colab": {
          "base_uri": "https://localhost:8080/"
        },
        "id": "QX60sBZDBgVp",
        "outputId": "17073311-e939-4d1d-a59a-9f4d4dcfcfe7"
      },
      "execution_count": 82,
      "outputs": [
        {
          "output_type": "stream",
          "name": "stdout",
          "text": [
            "225/225 [==============================] - 1s 3ms/step - loss: 0.1314 - accuracy: 0.9640\n"
          ]
        },
        {
          "output_type": "execute_result",
          "data": {
            "text/plain": [
              "[0.13144126534461975, 0.9640267491340637]"
            ]
          },
          "metadata": {},
          "execution_count": 82
        }
      ]
    },
    {
      "cell_type": "code",
      "source": [
        "cnn_model_04.save('./cnn_model/cnn_model_01')"
      ],
      "metadata": {
        "colab": {
          "base_uri": "https://localhost:8080/"
        },
        "id": "NqSjK9I0wWb9",
        "outputId": "10f4060c-974a-4d39-8616-a11506911ef7"
      },
      "execution_count": 83,
      "outputs": [
        {
          "output_type": "stream",
          "name": "stderr",
          "text": [
            "WARNING:absl:Found untraced functions such as _jit_compiled_convolution_op, _jit_compiled_convolution_op, _jit_compiled_convolution_op while saving (showing 3 of 3). These functions will not be directly callable after loading.\n"
          ]
        }
      ]
    },
    {
      "cell_type": "code",
      "source": [
        "def initialize_model5():\n",
        "\n",
        "    model = Sequential()\n",
        "    # Add an scaling layers to normalize the image\n",
        "    model.add(Rescaling(1./255,input_shape = (28,28,1)))\n",
        "\n",
        "    # Add Data Augmentation layers\n",
        "    model.add(RandomZoom(0.1))\n",
        "    model.add(RandomTranslation(0.1, 0.1))\n",
        "    model.add(RandomRotation(0.2))\n",
        "\n",
        "\n",
        "\n",
        "    ### First Convolution & MaxPooling\n",
        "    model.add(Conv2D(75, kernel_size = (3,3),activation = 'relu', padding = 'same'))\n",
        "    model.add(BatchNormalization())\n",
        "    model.add(Dropout(0.3))\n",
        "    model.add(MaxPool2D(pool_size = (2,2),padding = 'same'))\n",
        "    \n",
        "    ### Second Convolution & MaxPooling\n",
        "    model.add(Conv2D(50, kernel_size = (3,3), activation = 'relu', padding = 'same'))\n",
        "    model.add(Dropout(0.3))\n",
        "    model.add(BatchNormalization())\n",
        "    model.add(MaxPool2D(pool_size = (2,2),padding = 'same'))\n",
        "\n",
        "\n",
        "    ### Third Convolution & MaxPooling\n",
        "    model.add(Conv2D(25, kernel_size = (3,3), activation = 'relu', padding = 'same'))\n",
        "    model.add(Dropout(0.3))\n",
        "    model.add(BatchNormalization())\n",
        "    model.add(MaxPool2D(pool_size = (2,2),padding = 'same'))\n",
        "\n",
        "    ### Flattening\n",
        "    model.add(Flatten())\n",
        "    \n",
        "    ### One Fully Connected layer - \"Fully Connected\" is equivalent to saying \"Dense\"\n",
        "    model.add(Dense(256,activation = 'relu'))\n",
        "    model.add(Dropout(0.3))\n",
        "    \n",
        "    ### Last layer - Classification Layer with 10 outputs corresponding to 10 digits\n",
        "    model.add(Dense(25,activation = 'softmax'))\n",
        "    \n",
        "    ### Model compilation\n",
        "    model.compile(loss = 'categorical_crossentropy', optimizer = 'adam',metrics = ['accuracy'])\n",
        "    \n",
        "    return model"
      ],
      "metadata": {
        "id": "07t2gqsbDETU"
      },
      "execution_count": 84,
      "outputs": []
    },
    {
      "cell_type": "code",
      "source": [
        "cnn_model_05 = initialize_model5() "
      ],
      "metadata": {
        "id": "j-eFt37ID1A7"
      },
      "execution_count": 87,
      "outputs": []
    },
    {
      "cell_type": "code",
      "source": [
        "history5 = cnn_model_05.fit(X_train_dim, y_train_cat,epochs=50,batch_size=128,validation_data = (X_val_dim,y_val_cat),callbacks=[es2,reduc_lr2])"
      ],
      "metadata": {
        "colab": {
          "base_uri": "https://localhost:8080/"
        },
        "id": "g085tA8EEHDe",
        "outputId": "abb6c122-e3e8-4a89-c949-cd1a5b840505"
      },
      "execution_count": 88,
      "outputs": [
        {
          "output_type": "stream",
          "name": "stdout",
          "text": [
            "Epoch 1/50\n",
            "172/172 [==============================] - 7s 19ms/step - loss: 2.7071 - accuracy: 0.1925 - val_loss: 4.4882 - val_accuracy: 0.0370 - lr: 0.0010\n",
            "Epoch 2/50\n",
            "172/172 [==============================] - 3s 20ms/step - loss: 1.8529 - accuracy: 0.3972 - val_loss: 4.1954 - val_accuracy: 0.0843 - lr: 0.0010\n",
            "Epoch 3/50\n",
            "172/172 [==============================] - 3s 17ms/step - loss: 1.3226 - accuracy: 0.5480 - val_loss: 1.9985 - val_accuracy: 0.3728 - lr: 0.0010\n",
            "Epoch 4/50\n",
            "172/172 [==============================] - 3s 16ms/step - loss: 0.9970 - accuracy: 0.6570 - val_loss: 1.0613 - val_accuracy: 0.6227 - lr: 0.0010\n",
            "Epoch 5/50\n",
            "172/172 [==============================] - 3s 16ms/step - loss: 0.7872 - accuracy: 0.7268 - val_loss: 1.2210 - val_accuracy: 0.6048 - lr: 0.0010\n",
            "Epoch 6/50\n",
            "172/172 [==============================] - 3s 19ms/step - loss: 0.6719 - accuracy: 0.7630 - val_loss: 0.6841 - val_accuracy: 0.7549 - lr: 0.0010\n",
            "Epoch 7/50\n",
            "172/172 [==============================] - 3s 18ms/step - loss: 0.5790 - accuracy: 0.7988 - val_loss: 0.5925 - val_accuracy: 0.7999 - lr: 0.0010\n",
            "Epoch 8/50\n",
            "172/172 [==============================] - 3s 16ms/step - loss: 0.5156 - accuracy: 0.8184 - val_loss: 0.7649 - val_accuracy: 0.7345 - lr: 0.0010\n",
            "Epoch 9/50\n",
            "172/172 [==============================] - 3s 16ms/step - loss: 0.4734 - accuracy: 0.8340 - val_loss: 1.0271 - val_accuracy: 0.6822 - lr: 0.0010\n",
            "Epoch 10/50\n",
            "172/172 [==============================] - 3s 18ms/step - loss: 0.4200 - accuracy: 0.8517 - val_loss: 0.3758 - val_accuracy: 0.8807 - lr: 0.0010\n",
            "Epoch 11/50\n",
            "172/172 [==============================] - 3s 19ms/step - loss: 0.3832 - accuracy: 0.8673 - val_loss: 0.1973 - val_accuracy: 0.9372 - lr: 0.0010\n",
            "Epoch 12/50\n",
            "172/172 [==============================] - 3s 17ms/step - loss: 0.3536 - accuracy: 0.8784 - val_loss: 0.3114 - val_accuracy: 0.8867 - lr: 0.0010\n",
            "Epoch 13/50\n",
            "172/172 [==============================] - 3s 16ms/step - loss: 0.3357 - accuracy: 0.8834 - val_loss: 0.2962 - val_accuracy: 0.8938 - lr: 0.0010\n",
            "Epoch 14/50\n",
            "172/172 [==============================] - 3s 16ms/step - loss: 0.3119 - accuracy: 0.8912 - val_loss: 0.2854 - val_accuracy: 0.9126 - lr: 0.0010\n",
            "Epoch 15/50\n",
            "172/172 [==============================] - 3s 19ms/step - loss: 0.3067 - accuracy: 0.8934 - val_loss: 0.2112 - val_accuracy: 0.9281 - lr: 0.0010\n",
            "Epoch 16/50\n",
            "171/172 [============================>.] - ETA: 0s - loss: 0.2811 - accuracy: 0.9022\n",
            "Epoch 16: ReduceLROnPlateau reducing learning rate to 0.00010000000474974513.\n",
            "172/172 [==============================] - 3s 18ms/step - loss: 0.2809 - accuracy: 0.9022 - val_loss: 0.2878 - val_accuracy: 0.8898 - lr: 0.0010\n"
          ]
        }
      ]
    },
    {
      "cell_type": "code",
      "source": [
        "results5 = cnn_model_05.evaluate(X_test_dim,y_test_cat)\n",
        "results5"
      ],
      "metadata": {
        "colab": {
          "base_uri": "https://localhost:8080/"
        },
        "id": "DaB0DqupD86o",
        "outputId": "5a2c040e-56bd-4672-dcbe-9c8c0c61f55e"
      },
      "execution_count": 89,
      "outputs": [
        {
          "output_type": "stream",
          "name": "stdout",
          "text": [
            "225/225 [==============================] - 1s 3ms/step - loss: 0.3057 - accuracy: 0.8907\n"
          ]
        },
        {
          "output_type": "execute_result",
          "data": {
            "text/plain": [
              "[0.3056783676147461, 0.8906859755516052]"
            ]
          },
          "metadata": {},
          "execution_count": 89
        }
      ]
    },
    {
      "cell_type": "code",
      "source": [],
      "metadata": {
        "id": "d_nv5E3GEBkE"
      },
      "execution_count": null,
      "outputs": []
    }
  ],
  "metadata": {
    "kernelspec": {
      "display_name": "sign_language",
      "language": "python",
      "name": "python3"
    },
    "language_info": {
      "codemirror_mode": {
        "name": "ipython",
        "version": 3
      },
      "file_extension": ".py",
      "mimetype": "text/x-python",
      "name": "python",
      "nbconvert_exporter": "python",
      "pygments_lexer": "ipython3",
      "version": "3.8.12"
    },
    "orig_nbformat": 4,
    "colab": {
      "provenance": [],
      "gpuType": "T4"
    },
    "accelerator": "GPU",
    "gpuClass": "standard"
  },
  "nbformat": 4,
  "nbformat_minor": 0
}